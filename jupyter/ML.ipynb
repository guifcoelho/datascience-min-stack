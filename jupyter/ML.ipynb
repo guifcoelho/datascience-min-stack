{
 "cells": [
  {
   "cell_type": "code",
   "execution_count": 12,
   "metadata": {},
   "outputs": [],
   "source": [
    "from google.cloud import bigquery\n",
    "from google.oauth2 import service_account\n",
    "import json\n",
    "import os\n",
    "import pandas as pd\n",
    "\n",
    "# TensorFlow e tf.keras\n",
    "import tensorflow as tf\n",
    "from tensorflow import keras\n",
    "from sklearn.linear_model import LogisticRegression\n",
    "\n",
    "# Librariesauxiliares\n",
    "import pandas as pd\n",
    "import numpy as np"
   ]
  },
  {
   "cell_type": "code",
   "execution_count": 2,
   "metadata": {},
   "outputs": [],
   "source": [
    "# Configurando conexão com BigQuery\n",
    "def bigQueryConnect(key): \n",
    "    cwd = os.getcwd()\n",
    "    keyPath = cwd+'/'+key\n",
    "    with open(keyPath) as f:\n",
    "        key = json.load(f)\n",
    "    credentials = service_account.Credentials.from_service_account_file(keyPath)\n",
    "    client = bigquery.Client(credentials= credentials,project=key['project_id'])\n",
    "    return client"
   ]
  },
  {
   "cell_type": "code",
   "execution_count": 14,
   "metadata": {},
   "outputs": [
    {
     "data": {
      "text/html": "<div>\n<style scoped>\n    .dataframe tbody tr th:only-of-type {\n        vertical-align: middle;\n    }\n\n    .dataframe tbody tr th {\n        vertical-align: top;\n    }\n\n    .dataframe thead th {\n        text-align: right;\n    }\n</style>\n<table border=\"1\" class=\"dataframe\">\n  <thead>\n    <tr style=\"text-align: right;\">\n      <th></th>\n      <th>dia_semana</th>\n      <th>mes</th>\n      <th>companhia_gol</th>\n      <th>companhia_tam</th>\n      <th>companhia_azul</th>\n      <th>companhia_avianca</th>\n      <th>qtd_voos</th>\n      <th>qtd_voos_recebidos</th>\n      <th>ida_ou_volta</th>\n      <th>dias_entre_a_viagem</th>\n      <th>mais_precos_mais_barato_mm</th>\n    </tr>\n  </thead>\n  <tbody>\n    <tr>\n      <th>0</th>\n      <td>4</td>\n      <td>1</td>\n      <td>0</td>\n      <td>1</td>\n      <td>0</td>\n      <td>0</td>\n      <td>51</td>\n      <td>50</td>\n      <td>0</td>\n      <td>6</td>\n      <td>1</td>\n    </tr>\n    <tr>\n      <th>1</th>\n      <td>2</td>\n      <td>1</td>\n      <td>0</td>\n      <td>1</td>\n      <td>0</td>\n      <td>0</td>\n      <td>47</td>\n      <td>46</td>\n      <td>1</td>\n      <td>0</td>\n      <td>1</td>\n    </tr>\n    <tr>\n      <th>2</th>\n      <td>2</td>\n      <td>1</td>\n      <td>0</td>\n      <td>0</td>\n      <td>1</td>\n      <td>0</td>\n      <td>8</td>\n      <td>13</td>\n      <td>0</td>\n      <td>4</td>\n      <td>0</td>\n    </tr>\n    <tr>\n      <th>3</th>\n      <td>2</td>\n      <td>1</td>\n      <td>1</td>\n      <td>0</td>\n      <td>0</td>\n      <td>0</td>\n      <td>15</td>\n      <td>15</td>\n      <td>1</td>\n      <td>0</td>\n      <td>1</td>\n    </tr>\n    <tr>\n      <th>4</th>\n      <td>2</td>\n      <td>1</td>\n      <td>0</td>\n      <td>0</td>\n      <td>1</td>\n      <td>0</td>\n      <td>6</td>\n      <td>6</td>\n      <td>1</td>\n      <td>0</td>\n      <td>0</td>\n    </tr>\n  </tbody>\n</table>\n</div>",
      "text/plain": "   dia_semana  mes  companhia_gol  companhia_tam  companhia_azul  \\\n0           4    1              0              1               0   \n1           2    1              0              1               0   \n2           2    1              0              0               1   \n3           2    1              1              0               0   \n4           2    1              0              0               1   \n\n   companhia_avianca  qtd_voos  qtd_voos_recebidos  ida_ou_volta  \\\n0                  0        51                  50             0   \n1                  0        47                  46             1   \n2                  0         8                  13             0   \n3                  0        15                  15             1   \n4                  0         6                   6             1   \n\n   dias_entre_a_viagem  mais_precos_mais_barato_mm  \n0                    6                           1  \n1                    0                           1  \n2                    4                           0  \n3                    0                           1  \n4                    0                           0  "
     },
     "execution_count": 14,
     "metadata": {},
     "output_type": "execute_result"
    }
   ],
   "source": [
    "client = bigQueryConnect('keys/service-account-key.json')\n",
    "job = client.query( \"\"\"\n",
    "    SELECT\n",
    "    EXTRACT(DAYOFWEEK FROM data_busca) as dia_semana,\n",
    "    EXTRACT(MONTH FROM data_busca) as mes,\n",
    "    (CASE companhia_aerea WHEN 'GOL' THEN 1 ELSE 0 END) AS companhia_gol,\n",
    "    (CASE companhia_aerea WHEN 'TAM' THEN 1 ELSE 0 END) AS companhia_tam,\n",
    "    (CASE companhia_aerea WHEN 'AZUL' THEN 1 ELSE 0 END) AS companhia_azul,\n",
    "    (CASE companhia_aerea WHEN 'AVIANCA' THEN 1 ELSE 0 END) AS companhia_avianca,\n",
    "    qtd_voos,\n",
    "    qtd_voos_recebidos,\n",
    "    (CASE tipo_de_voo WHEN 'Ida' THEN 1 ELSE 0 END) AS ida_ou_volta,\n",
    "    dias_entre_a_viagem,\n",
    "    (CASE WHEN qtd_melhores_precos_na_mm > qtd_melhores_precos_nas_cias THEN 1 ELSE 0 END) AS mais_precos_mais_barato_mm\n",
    "\n",
    "    FROM `maxmilhas-teste.teste.buscas`\n",
    "    WHERE (qtd_melhores_precos_na_mm > 0 OR  qtd_melhores_precos_nas_cias > 0)\n",
    "    \n",
    "    \"\"\")\n",
    "resultado = job.result()\n",
    "dados = resultado.to_dataframe()\n",
    "dados.head()"
   ]
  },
  {
   "cell_type": "code",
   "execution_count": 15,
   "metadata": {},
   "outputs": [],
   "source": [
    "input = dados[1:int(len(dados)*0.7)].reset_index(drop=True)\n",
    "predict = dados[int(len(dados)*0.7):len(dados)].reset_index(drop=True)\n",
    "features = [\n",
    "    'dia_semana',\n",
    "    'mes','companhia_gol',\n",
    "    'companhia_azul',\n",
    "    'companhia_tam',\n",
    "    'companhia_avianca',\n",
    "    'qtd_voos',\n",
    "    'qtd_voos_recebidos',\n",
    "    'ida_ou_volta',\n",
    "    'dias_entre_a_viagem'\n",
    "]\n",
    "prediction_class = 'mais_precos_mais_barato_mm'"
   ]
  },
  {
   "cell_type": "code",
   "execution_count": 17,
   "metadata": {},
   "outputs": [],
   "source": [
    "inputX = input[features].to_numpy()\n",
    "inputY = input[prediction_class].to_numpy()\n",
    "\n",
    "predictX = predict[features].to_numpy()\n",
    "predictY = predict[prediction_class].to_numpy()"
   ]
  },
  {
   "cell_type": "code",
   "execution_count": 18,
   "metadata": {},
   "outputs": [],
   "source": [
    "model = keras.Sequential([\n",
    "    keras.layers.Dense(10, activation='linear'),\n",
    "    keras.layers.Dense(10, activation='linear'),\n",
    "    keras.layers.Dense(10, activation='linear'),\n",
    "    keras.layers.Dense(10, activation='linear'),\n",
    "    keras.layers.Dense(10, activation='linear'),\n",
    "    keras.layers.Dense(10, activation='linear'),\n",
    "    keras.layers.Dense(10, activation='linear'),\n",
    "    keras.layers.Dense(1, activation='sigmoid')\n",
    "])"
   ]
  },
  {
   "cell_type": "code",
   "execution_count": 19,
   "metadata": {},
   "outputs": [],
   "source": [
    "model.compile(optimizer='adam',\n",
    "      loss='binary_crossentropy',\n",
    "      metrics=['accuracy'])"
   ]
  },
  {
   "cell_type": "code",
   "execution_count": 21,
   "metadata": {},
   "outputs": [
    {
     "name": "stdout",
     "output_type": "stream",
     "text": "- accuracy: 0.8814\nEpoch 816/1000\n506/506 [==============================] - 0s 128us/sample - loss: 0.3059 - accuracy: 0.8794\nEpoch 817/1000\n506/506 [==============================] - 0s 141us/sample - loss: 0.3064 - accuracy: 0.8834\nEpoch 818/1000\n506/506 [==============================] - 0s 125us/sample - loss: 0.3057 - accuracy: 0.8755\nEpoch 819/1000\n506/506 [==============================] - 0s 137us/sample - loss: 0.3057 - accuracy: 0.8794\nEpoch 820/1000\n506/506 [==============================] - 0s 164us/sample - loss: 0.3146 - accuracy: 0.8834\nEpoch 821/1000\n506/506 [==============================] - 0s 162us/sample - loss: 0.3104 - accuracy: 0.8715\nEpoch 822/1000\n506/506 [==============================] - 0s 149us/sample - loss: 0.3071 - accuracy: 0.8794\nEpoch 823/1000\n506/506 [==============================] - 0s 164us/sample - loss: 0.3124 - accuracy: 0.8814\nEpoch 824/1000\n506/506 [==============================] - 0s 150us/sample - loss: 0.3062 - accuracy: 0.8755\nEpoch 825/1000\n506/506 [==============================] - 0s 139us/sample - loss: 0.3058 - accuracy: 0.8834\nEpoch 826/1000\n506/506 [==============================] - 0s 160us/sample - loss: 0.3069 - accuracy: 0.8794\nEpoch 827/1000\n506/506 [==============================] - 0s 173us/sample - loss: 0.3078 - accuracy: 0.8755\nEpoch 828/1000\n506/506 [==============================] - 0s 177us/sample - loss: 0.3100 - accuracy: 0.8834\nEpoch 829/1000\n506/506 [==============================] - 0s 139us/sample - loss: 0.3083 - accuracy: 0.8834\nEpoch 830/1000\n506/506 [==============================] - 0s 150us/sample - loss: 0.3082 - accuracy: 0.8735\nEpoch 831/1000\n506/506 [==============================] - 0s 148us/sample - loss: 0.3060 - accuracy: 0.8794\nEpoch 832/1000\n506/506 [==============================] - 0s 171us/sample - loss: 0.3092 - accuracy: 0.8794\nEpoch 833/1000\n506/506 [==============================] - 0s 206us/sample - loss: 0.3078 - accuracy: 0.8775\nEpoch 834/1000\n506/506 [==============================] - 0s 162us/sample - loss: 0.3064 - accuracy: 0.8854\nEpoch 835/1000\n506/506 [==============================] - 0s 159us/sample - loss: 0.3062 - accuracy: 0.8755\nEpoch 836/1000\n506/506 [==============================] - 0s 155us/sample - loss: 0.3073 - accuracy: 0.8794\nEpoch 837/1000\n506/506 [==============================] - 0s 143us/sample - loss: 0.3058 - accuracy: 0.8854\nEpoch 838/1000\n506/506 [==============================] - 0s 149us/sample - loss: 0.3059 - accuracy: 0.8814\nEpoch 839/1000\n506/506 [==============================] - 0s 137us/sample - loss: 0.3070 - accuracy: 0.8755\nEpoch 840/1000\n506/506 [==============================] - 0s 122us/sample - loss: 0.3070 - accuracy: 0.8854\nEpoch 841/1000\n506/506 [==============================] - 0s 163us/sample - loss: 0.3064 - accuracy: 0.8814\nEpoch 842/1000\n506/506 [==============================] - 0s 159us/sample - loss: 0.3062 - accuracy: 0.8814\nEpoch 843/1000\n506/506 [==============================] - 0s 126us/sample - loss: 0.3076 - accuracy: 0.8814\nEpoch 844/1000\n506/506 [==============================] - 0s 140us/sample - loss: 0.3062 - accuracy: 0.8775\nEpoch 845/1000\n506/506 [==============================] - 0s 151us/sample - loss: 0.3064 - accuracy: 0.8755\nEpoch 846/1000\n506/506 [==============================] - 0s 136us/sample - loss: 0.3105 - accuracy: 0.8834\nEpoch 847/1000\n506/506 [==============================] - 0s 117us/sample - loss: 0.3059 - accuracy: 0.8755\nEpoch 848/1000\n506/506 [==============================] - 0s 116us/sample - loss: 0.3045 - accuracy: 0.8814\nEpoch 849/1000\n506/506 [==============================] - 0s 130us/sample - loss: 0.3052 - accuracy: 0.8834\nEpoch 850/1000\n506/506 [==============================] - 0s 151us/sample - loss: 0.3056 - accuracy: 0.8775\nEpoch 851/1000\n506/506 [==============================] - 0s 133us/sample - loss: 0.3058 - accuracy: 0.8814\nEpoch 852/1000\n506/506 [==============================] - 0s 126us/sample - loss: 0.3062 - accuracy: 0.8775\nEpoch 853/1000\n506/506 [==============================] - 0s 121us/sample - loss: 0.3076 - accuracy: 0.8834\nEpoch 854/1000\n506/506 [==============================] - 0s 168us/sample - loss: 0.3076 - accuracy: 0.8755\nEpoch 855/1000\n506/506 [==============================] - 0s 130us/sample - loss: 0.3095 - accuracy: 0.8794\nEpoch 856/1000\n506/506 [==============================] - 0s 127us/sample - loss: 0.3085 - accuracy: 0.8814\nEpoch 857/1000\n506/506 [==============================] - 0s 140us/sample - loss: 0.3062 - accuracy: 0.8814\nEpoch 858/1000\n506/506 [==============================] - 0s 120us/sample - loss: 0.3074 - accuracy: 0.8834\nEpoch 859/1000\n506/506 [==============================] - 0s 131us/sample - loss: 0.3107 - accuracy: 0.8755\nEpoch 860/1000\n506/506 [==============================] - 0s 147us/sample - loss: 0.3061 - accuracy: 0.8794\nEpoch 861/1000\n506/506 [==============================] - 0s 132us/sample - loss: 0.3097 - accuracy: 0.8794\nEpoch 862/1000\n506/506 [==============================] - 0s 126us/sample - loss: 0.3085 - accuracy: 0.8775\nEpoch 863/1000\n506/506 [==============================] - 0s 156us/sample - loss: 0.3055 - accuracy: 0.8854\nEpoch 864/1000\n506/506 [==============================] - 0s 115us/sample - loss: 0.3077 - accuracy: 0.8854\nEpoch 865/1000\n506/506 [==============================] - 0s 122us/sample - loss: 0.3084 - accuracy: 0.8755\nEpoch 866/1000\n506/506 [==============================] - 0s 155us/sample - loss: 0.3082 - accuracy: 0.8854\nEpoch 867/1000\n506/506 [==============================] - 0s 106us/sample - loss: 0.3060 - accuracy: 0.8775\nEpoch 868/1000\n506/506 [==============================] - 0s 151us/sample - loss: 0.3060 - accuracy: 0.8814\nEpoch 869/1000\n506/506 [==============================] - 0s 128us/sample - loss: 0.3061 - accuracy: 0.8775\nEpoch 870/1000\n506/506 [==============================] - 0s 112us/sample - loss: 0.3074 - accuracy: 0.8834\nEpoch 871/1000\n506/506 [==============================] - 0s 138us/sample - loss: 0.3069 - accuracy: 0.8814\nEpoch 872/1000\n506/506 [==============================] - 0s 128us/sample - loss: 0.3075 - accuracy: 0.8755\nEpoch 873/1000\n506/506 [==============================] - 0s 168us/sample - loss: 0.3063 - accuracy: 0.8814\nEpoch 874/1000\n506/506 [==============================] - 0s 164us/sample - loss: 0.3114 - accuracy: 0.8755\nEpoch 875/1000\n506/506 [==============================] - 0s 135us/sample - loss: 0.3085 - accuracy: 0.8755\nEpoch 876/1000\n506/506 [==============================] - 0s 119us/sample - loss: 0.3089 - accuracy: 0.8834\nEpoch 877/1000\n506/506 [==============================] - 0s 111us/sample - loss: 0.3052 - accuracy: 0.8814\nEpoch 878/1000\n506/506 [==============================] - 0s 124us/sample - loss: 0.3086 - accuracy: 0.8775\nEpoch 879/1000\n506/506 [==============================] - 0s 138us/sample - loss: 0.3112 - accuracy: 0.8794\nEpoch 880/1000\n506/506 [==============================] - 0s 123us/sample - loss: 0.3088 - accuracy: 0.8794\nEpoch 881/1000\n506/506 [==============================] - 0s 144us/sample - loss: 0.3110 - accuracy: 0.8775\nEpoch 882/1000\n506/506 [==============================] - 0s 126us/sample - loss: 0.3059 - accuracy: 0.8775\nEpoch 883/1000\n506/506 [==============================] - 0s 156us/sample - loss: 0.3078 - accuracy: 0.8755\nEpoch 884/1000\n506/506 [==============================] - 0s 111us/sample - loss: 0.3100 - accuracy: 0.8854\nEpoch 885/1000\n506/506 [==============================] - 0s 126us/sample - loss: 0.3070 - accuracy: 0.8814\nEpoch 886/1000\n506/506 [==============================] - 0s 142us/sample - loss: 0.3063 - accuracy: 0.8755\nEpoch 887/1000\n506/506 [==============================] - 0s 155us/sample - loss: 0.3060 - accuracy: 0.8794\nEpoch 888/1000\n506/506 [==============================] - 0s 126us/sample - loss: 0.3078 - accuracy: 0.8834\nEpoch 889/1000\n506/506 [==============================] - 0s 114us/sample - loss: 0.3072 - accuracy: 0.8794\nEpoch 890/1000\n506/506 [==============================] - 0s 147us/sample - loss: 0.3059 - accuracy: 0.8755\nEpoch 891/1000\n506/506 [==============================] - 0s 112us/sample - loss: 0.3110 - accuracy: 0.8854\nEpoch 892/1000\n506/506 [==============================] - 0s 120us/sample - loss: 0.3114 - accuracy: 0.8735\nEpoch 893/1000\n506/506 [==============================] - 0s 150us/sample - loss: 0.3054 - accuracy: 0.8814\nEpoch 894/1000\n506/506 [==============================] - 0s 144us/sample - loss: 0.3072 - accuracy: 0.8834\nEpoch 895/1000\n506/506 [==============================] - 0s 108us/sample - loss: 0.3088 - accuracy: 0.8834\nEpoch 896/1000\n506/506 [==============================] - 0s 133us/sample - loss: 0.3071 - accuracy: 0.8755\nEpoch 897/1000\n506/506 [==============================] - 0s 119us/sample - loss: 0.3065 - accuracy: 0.8834\nEpoch 898/1000\n506/506 [==============================] - 0s 116us/sample - loss: 0.3065 - accuracy: 0.8794\nEpoch 899/1000\n506/506 [==============================] - 0s 110us/sample - loss: 0.3048 - accuracy: 0.8834\nEpoch 900/1000\n506/506 [==============================] - 0s 119us/sample - loss: 0.3063 - accuracy: 0.8755\nEpoch 901/1000\n506/506 [==============================] - 0s 159us/sample - loss: 0.3071 - accuracy: 0.8814\nEpoch 902/1000\n506/506 [==============================] - 0s 173us/sample - loss: 0.3073 - accuracy: 0.8834\nEpoch 903/1000\n506/506 [==============================] - 0s 131us/sample - loss: 0.3061 - accuracy: 0.8834\nEpoch 904/1000\n506/506 [==============================] - 0s 152us/sample - loss: 0.3059 - accuracy: 0.8814\nEpoch 905/1000\n506/506 [==============================] - 0s 111us/sample - loss: 0.3061 - accuracy: 0.8755\nEpoch 906/1000\n506/506 [==============================] - 0s 135us/sample - loss: 0.3062 - accuracy: 0.8854\nEpoch 907/1000\n506/506 [==============================] - 0s 134us/sample - loss: 0.3081 - accuracy: 0.8775\nEpoch 908/1000\n506/506 [==============================] - 0s 151us/sample - loss: 0.3075 - accuracy: 0.8755\nEpoch 909/1000\n506/506 [==============================] - 0s 122us/sample - loss: 0.3083 - accuracy: 0.8755\nEpoch 910/1000\n506/506 [==============================] - 0s 122us/sample - loss: 0.3076 - accuracy: 0.8834\nEpoch 911/1000\n506/506 [==============================] - 0s 121us/sample - loss: 0.3063 - accuracy: 0.8775\nEpoch 912/1000\n506/506 [==============================] - 0s 139us/sample - loss: 0.3063 - accuracy: 0.8755\nEpoch 913/1000\n506/506 [==============================] - 0s 127us/sample - loss: 0.3052 - accuracy: 0.8775\nEpoch 914/1000\n506/506 [==============================] - 0s 105us/sample - loss: 0.3081 - accuracy: 0.8834\nEpoch 915/1000\n506/506 [==============================] - 0s 136us/sample - loss: 0.3070 - accuracy: 0.8755\nEpoch 916/1000\n506/506 [==============================] - 0s 149us/sample - loss: 0.3051 - accuracy: 0.8755\nEpoch 917/1000\n506/506 [==============================] - 0s 121us/sample - loss: 0.3072 - accuracy: 0.8775\nEpoch 918/1000\n506/506 [==============================] - 0s 106us/sample - loss: 0.3056 - accuracy: 0.8775\nEpoch 919/1000\n506/506 [==============================] - 0s 146us/sample - loss: 0.3082 - accuracy: 0.8834\nEpoch 920/1000\n506/506 [==============================] - 0s 126us/sample - loss: 0.3091 - accuracy: 0.8834\nEpoch 921/1000\n506/506 [==============================] - 0s 153us/sample - loss: 0.3071 - accuracy: 0.8755\nEpoch 922/1000\n506/506 [==============================] - 0s 142us/sample - loss: 0.3064 - accuracy: 0.8755\nEpoch 923/1000\n506/506 [==============================] - 0s 129us/sample - loss: 0.3080 - accuracy: 0.8834\nEpoch 924/1000\n506/506 [==============================] - 0s 126us/sample - loss: 0.3077 - accuracy: 0.8755\nEpoch 925/1000\n506/506 [==============================] - 0s 118us/sample - loss: 0.3086 - accuracy: 0.8834\nEpoch 926/1000\n506/506 [==============================] - 0s 145us/sample - loss: 0.3046 - accuracy: 0.8775\nEpoch 927/1000\n506/506 [==============================] - 0s 109us/sample - loss: 0.3104 - accuracy: 0.8814\nEpoch 928/1000\n506/506 [==============================] - 0s 145us/sample - loss: 0.3109 - accuracy: 0.8735\nEpoch 929/1000\n506/506 [==============================] - 0s 122us/sample - loss: 0.3051 - accuracy: 0.8834\nEpoch 930/1000\n506/506 [==============================] - 0s 137us/sample - loss: 0.3101 - accuracy: 0.8775\nEpoch 931/1000\n506/506 [==============================] - 0s 117us/sample - loss: 0.3055 - accuracy: 0.8834\nEpoch 932/1000\n506/506 [==============================] - 0s 132us/sample - loss: 0.3090 - accuracy: 0.8794\nEpoch 933/1000\n506/506 [==============================] - 0s 132us/sample - loss: 0.3075 - accuracy: 0.8794\nEpoch 934/1000\n506/506 [==============================] - 0s 146us/sample - loss: 0.3069 - accuracy: 0.8834\nEpoch 935/1000\n506/506 [==============================] - 0s 176us/sample - loss: 0.3060 - accuracy: 0.8834\nEpoch 936/1000\n506/506 [==============================] - 0s 132us/sample - loss: 0.3080 - accuracy: 0.8755\nEpoch 937/1000\n506/506 [==============================] - 0s 176us/sample - loss: 0.3051 - accuracy: 0.8775\nEpoch 938/1000\n506/506 [==============================] - 0s 131us/sample - loss: 0.3069 - accuracy: 0.8775\nEpoch 939/1000\n506/506 [==============================] - 0s 123us/sample - loss: 0.3071 - accuracy: 0.8834\nEpoch 940/1000\n506/506 [==============================] - 0s 114us/sample - loss: 0.3055 - accuracy: 0.8834\nEpoch 941/1000\n506/506 [==============================] - 0s 155us/sample - loss: 0.3077 - accuracy: 0.8834\nEpoch 942/1000\n506/506 [==============================] - 0s 125us/sample - loss: 0.3052 - accuracy: 0.8814\nEpoch 943/1000\n506/506 [==============================] - 0s 128us/sample - loss: 0.3073 - accuracy: 0.8755\nEpoch 944/1000\n506/506 [==============================] - 0s 143us/sample - loss: 0.3061 - accuracy: 0.8794\nEpoch 945/1000\n506/506 [==============================] - 0s 130us/sample - loss: 0.3082 - accuracy: 0.8794\nEpoch 946/1000\n506/506 [==============================] - 0s 127us/sample - loss: 0.3060 - accuracy: 0.8775\nEpoch 947/1000\n506/506 [==============================] - 0s 143us/sample - loss: 0.3053 - accuracy: 0.8814\nEpoch 948/1000\n506/506 [==============================] - 0s 132us/sample - loss: 0.3078 - accuracy: 0.8755\nEpoch 949/1000\n506/506 [==============================] - 0s 110us/sample - loss: 0.3096 - accuracy: 0.8834\nEpoch 950/1000\n506/506 [==============================] - 0s 140us/sample - loss: 0.3114 - accuracy: 0.8735\nEpoch 951/1000\n506/506 [==============================] - 0s 113us/sample - loss: 0.3057 - accuracy: 0.8834\nEpoch 952/1000\n506/506 [==============================] - 0s 131us/sample - loss: 0.3066 - accuracy: 0.8814\nEpoch 953/1000\n506/506 [==============================] - 0s 162us/sample - loss: 0.3065 - accuracy: 0.8794\nEpoch 954/1000\n506/506 [==============================] - 0s 140us/sample - loss: 0.3062 - accuracy: 0.8775\nEpoch 955/1000\n506/506 [==============================] - 0s 150us/sample - loss: 0.3068 - accuracy: 0.8814\nEpoch 956/1000\n506/506 [==============================] - 0s 112us/sample - loss: 0.3060 - accuracy: 0.8814\nEpoch 957/1000\n506/506 [==============================] - 0s 132us/sample - loss: 0.3066 - accuracy: 0.8775\nEpoch 958/1000\n506/506 [==============================] - 0s 113us/sample - loss: 0.3062 - accuracy: 0.8834\nEpoch 959/1000\n506/506 [==============================] - 0s 123us/sample - loss: 0.3061 - accuracy: 0.8775\nEpoch 960/1000\n506/506 [==============================] - 0s 151us/sample - loss: 0.3055 - accuracy: 0.8834\nEpoch 961/1000\n506/506 [==============================] - 0s 122us/sample - loss: 0.3074 - accuracy: 0.8834\nEpoch 962/1000\n506/506 [==============================] - 0s 147us/sample - loss: 0.3078 - accuracy: 0.8755\nEpoch 963/1000\n506/506 [==============================] - 0s 161us/sample - loss: 0.3070 - accuracy: 0.8834\nEpoch 964/1000\n506/506 [==============================] - 0s 138us/sample - loss: 0.3060 - accuracy: 0.8814\nEpoch 965/1000\n506/506 [==============================] - 0s 159us/sample - loss: 0.3064 - accuracy: 0.8755\nEpoch 966/1000\n506/506 [==============================] - 0s 136us/sample - loss: 0.3050 - accuracy: 0.8794\nEpoch 967/1000\n506/506 [==============================] - 0s 168us/sample - loss: 0.3059 - accuracy: 0.8854\nEpoch 968/1000\n506/506 [==============================] - 0s 147us/sample - loss: 0.3076 - accuracy: 0.8755\nEpoch 969/1000\n506/506 [==============================] - 0s 133us/sample - loss: 0.3059 - accuracy: 0.8775\nEpoch 970/1000\n506/506 [==============================] - 0s 129us/sample - loss: 0.3062 - accuracy: 0.8794\nEpoch 971/1000\n506/506 [==============================] - 0s 130us/sample - loss: 0.3093 - accuracy: 0.8834\nEpoch 972/1000\n506/506 [==============================] - 0s 130us/sample - loss: 0.3084 - accuracy: 0.8755\nEpoch 973/1000\n506/506 [==============================] - 0s 142us/sample - loss: 0.3061 - accuracy: 0.8794\nEpoch 974/1000\n506/506 [==============================] - 0s 117us/sample - loss: 0.3054 - accuracy: 0.8775\nEpoch 975/1000\n506/506 [==============================] - 0s 162us/sample - loss: 0.3075 - accuracy: 0.8834\nEpoch 976/1000\n506/506 [==============================] - 0s 135us/sample - loss: 0.3100 - accuracy: 0.8755\nEpoch 977/1000\n506/506 [==============================] - 0s 115us/sample - loss: 0.3067 - accuracy: 0.8834\nEpoch 978/1000\n506/506 [==============================] - 0s 126us/sample - loss: 0.3063 - accuracy: 0.8794\nEpoch 979/1000\n506/506 [==============================] - 0s 140us/sample - loss: 0.3067 - accuracy: 0.8814\nEpoch 980/1000\n506/506 [==============================] - 0s 126us/sample - loss: 0.3047 - accuracy: 0.8814\nEpoch 981/1000\n506/506 [==============================] - 0s 145us/sample - loss: 0.3065 - accuracy: 0.8775\nEpoch 982/1000\n506/506 [==============================] - 0s 116us/sample - loss: 0.3074 - accuracy: 0.8814\nEpoch 983/1000\n506/506 [==============================] - 0s 163us/sample - loss: 0.3088 - accuracy: 0.8794\nEpoch 984/1000\n506/506 [==============================] - 0s 148us/sample - loss: 0.3089 - accuracy: 0.8814\nEpoch 985/1000\n506/506 [==============================] - 0s 142us/sample - loss: 0.3078 - accuracy: 0.8794\nEpoch 986/1000\n506/506 [==============================] - 0s 147us/sample - loss: 0.3061 - accuracy: 0.8775\nEpoch 987/1000\n506/506 [==============================] - 0s 136us/sample - loss: 0.3075 - accuracy: 0.8854\nEpoch 988/1000\n506/506 [==============================] - 0s 146us/sample - loss: 0.3077 - accuracy: 0.8775\nEpoch 989/1000\n506/506 [==============================] - 0s 155us/sample - loss: 0.3111 - accuracy: 0.8794\nEpoch 990/1000\n506/506 [==============================] - 0s 150us/sample - loss: 0.3066 - accuracy: 0.8755\nEpoch 991/1000\n506/506 [==============================] - 0s 116us/sample - loss: 0.3106 - accuracy: 0.8775\nEpoch 992/1000\n506/506 [==============================] - 0s 129us/sample - loss: 0.3109 - accuracy: 0.8775\nEpoch 993/1000\n506/506 [==============================] - 0s 115us/sample - loss: 0.3109 - accuracy: 0.8794\nEpoch 994/1000\n506/506 [==============================] - 0s 167us/sample - loss: 0.3081 - accuracy: 0.8775\nEpoch 995/1000\n506/506 [==============================] - 0s 167us/sample - loss: 0.3047 - accuracy: 0.8775\nEpoch 996/1000\n506/506 [==============================] - 0s 164us/sample - loss: 0.3134 - accuracy: 0.8794\nEpoch 997/1000\n506/506 [==============================] - 0s 155us/sample - loss: 0.3069 - accuracy: 0.8834\nEpoch 998/1000\n506/506 [==============================] - 0s 139us/sample - loss: 0.3050 - accuracy: 0.8854\nEpoch 999/1000\n506/506 [==============================] - 0s 146us/sample - loss: 0.3050 - accuracy: 0.8794\nEpoch 1000/1000\n506/506 [==============================] - 0s 136us/sample - loss: 0.3057 - accuracy: 0.8814\n"
    },
    {
     "data": {
      "text/plain": "<tensorflow.python.keras.callbacks.History at 0x7f78ee419be0>"
     },
     "execution_count": 21,
     "metadata": {},
     "output_type": "execute_result"
    }
   ],
   "source": [
    "model.fit(inputX, inputY, epochs=1000)"
   ]
  },
  {
   "cell_type": "code",
   "execution_count": 22,
   "metadata": {},
   "outputs": [
    {
     "name": "stdout",
     "output_type": "stream",
     "text": "218/1 - 0s - loss: 0.3563 - accuracy: 0.8761\n"
    }
   ],
   "source": [
    "test_loss, test_acc = model.evaluate(predictX,  predictY, verbose=2)"
   ]
  },
  {
   "cell_type": "code",
   "execution_count": 23,
   "metadata": {},
   "outputs": [
    {
     "name": "stdout",
     "output_type": "stream",
     "text": "218/1 [============================================================================================================================================================================================================================================================================================================================================================================================================================================================================================================================================================================================================================================================================================================================================================================================================================================================================================================================================================================================================================================================================================================================================================================================================================================================================================================================================================================================================================================================================================================================================================================================================================================================================================================================================================================================================================================================================================================================================================================================================================================================================================================================================================================================================================================================================================================================================================================================================================================================================================================================================================================================================================================================================================================================================================================================================================================================================================================================================================================================================================================================================================================================================================================================================================================================================================================================================================================================================================================================================================================================================================================================================================================================================================================================================================================================================================================================================================================================================================================================================================================================================================================================================================================================================================================================================================================================================================================================================================================================================================================================================================================================================================================================================================================================================================================================================================================================================================================================================================================================================================================================================================================================================================================================================================================================================================================================================================================================================================================================================================================================================================================================================================================================================================================================================================================================================================================================================================================================================================================================================================================================================================================================================================================================================================================================================================================================================================================================================================================================================================================================================================================================================================================================================================================================================================================================================] - 0s 682us/sample\n"
    },
    {
     "data": {
      "text/plain": "0.8761467889908257"
     },
     "execution_count": 23,
     "metadata": {},
     "output_type": "execute_result"
    }
   ],
   "source": [
    "y_pred_NN = model.predict(predictX, verbose=1).flatten().round()\n",
    "1-sum(abs(y_pred_NN-predictY))/len(predictY)"
   ]
  },
  {
   "cell_type": "code",
   "execution_count": 24,
   "metadata": {},
   "outputs": [
    {
     "name": "stderr",
     "output_type": "stream",
     "text": "/opt/conda/lib/python3.7/site-packages/sklearn/linear_model/logistic.py:433: FutureWarning: Default solver will be changed to 'lbfgs' in 0.22. Specify a solver to silence this warning.\n  FutureWarning)\n"
    }
   ],
   "source": [
    "# instantiate the model (using the default parameters)\n",
    "logreg = LogisticRegression()\n",
    "\n",
    "# fit the model with data\n",
    "logreg.fit(inputX,inputY)\n",
    "\n",
    "#\n",
    "y_pred=logreg.predict(predictX)"
   ]
  },
  {
   "cell_type": "code",
   "execution_count": 25,
   "metadata": {},
   "outputs": [
    {
     "data": {
      "text/plain": "0.8669724770642202"
     },
     "execution_count": 25,
     "metadata": {},
     "output_type": "execute_result"
    }
   ],
   "source": [
    "1-sum(abs(y_pred-predictY))/len(predictY)"
   ]
  },
  {
   "cell_type": "code",
   "execution_count": null,
   "metadata": {},
   "outputs": [],
   "source": []
  }
 ],
 "metadata": {
  "kernelspec": {
   "display_name": "Python 3",
   "language": "python",
   "name": "python3"
  },
  "language_info": {
   "codemirror_mode": {
    "name": "ipython",
    "version": 3
   },
   "file_extension": ".py",
   "mimetype": "text/x-python",
   "name": "python",
   "nbconvert_exporter": "python",
   "pygments_lexer": "ipython3",
   "version": "3.6.8"
  }
 },
 "nbformat": 4,
 "nbformat_minor": 2
}